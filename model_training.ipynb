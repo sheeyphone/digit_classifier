{
 "cells": [
  {
   "cell_type": "markdown",
   "metadata": {},
   "source": [
    "# Model training\n",
    "\n",
    "#### Training a model to recognize digit from 0 to 9"
   ]
  },
  {
   "cell_type": "code",
   "execution_count": 5,
   "metadata": {},
   "outputs": [],
   "source": [
    "import torch\n",
    "import torch.nn as nn\n",
    "import torch.nn.functional as F\n",
    "import torch.optim as optim\n",
    "import numpy as np\n",
    "from torch.utils.data import DataLoader\n",
    "from datasets import load_dataset\n",
    "from sklearn.metrics import accuracy_score, precision_score, recall_score, f1_score\n",
    "from transformers import PretrainedConfig, PreTrainedModel\n",
    "from sklearn.preprocessing import OneHotEncoder"
   ]
  },
  {
   "cell_type": "markdown",
   "metadata": {},
   "source": [
    "### 1. Loading the MNIST dataset"
   ]
  },
  {
   "cell_type": "code",
   "execution_count": 6,
   "metadata": {},
   "outputs": [
    {
     "name": "stderr",
     "output_type": "stream",
     "text": [
      "Downloading readme: 100%|██████████| 6.97k/6.97k [00:00<00:00, 21.5kB/s]\n"
     ]
    },
    {
     "data": {
      "text/plain": [
       "DatasetDict({\n",
       "    train: Dataset({\n",
       "        features: ['image', 'label'],\n",
       "        num_rows: 60000\n",
       "    })\n",
       "    test: Dataset({\n",
       "        features: ['image', 'label'],\n",
       "        num_rows: 10000\n",
       "    })\n",
       "})"
      ]
     },
     "execution_count": 6,
     "metadata": {},
     "output_type": "execute_result"
    }
   ],
   "source": [
    "ds = load_dataset(\"ylecun/mnist\")\n",
    "ds = ds.with_format('torch')\n",
    "ds"
   ]
  },
  {
   "cell_type": "markdown",
   "metadata": {},
   "source": [
    "### 2. Training a sklearn OneHotEncoder"
   ]
  },
  {
   "cell_type": "code",
   "execution_count": 7,
   "metadata": {},
   "outputs": [
    {
     "name": "stdout",
     "output_type": "stream",
     "text": [
      "[array([0, 1, 2, 3, 4, 5, 6, 7, 8, 9])]\n"
     ]
    }
   ],
   "source": [
    "labels = [[item[\"label\"].item()] for item in ds[\"train\"]]\n",
    "labels = np.array(labels)\n",
    "ohe = OneHotEncoder(handle_unknown=\"ignore\", sparse_output=False).fit(labels)\n",
    "print(ohe.categories_)\n",
    "y = ohe.transform(labels)"
   ]
  },
  {
   "cell_type": "markdown",
   "metadata": {},
   "source": [
    "### 3. Defining a classifier and config\n",
    "\n",
    "We should keep `model.py` and the cell below exactly same codes."
   ]
  },
  {
   "cell_type": "code",
   "execution_count": 10,
   "metadata": {},
   "outputs": [],
   "source": [
    "class DigitClassifier(nn.Module):\n",
    "    def __init__(self, image_size=28, num_classes=10, **kwargs):\n",
    "        super().__init__(**kwargs)\n",
    "        fl_size_s = ((image_size - 4) / 2 - 2) / 2\n",
    "        fl_size = int(fl_size_s * fl_size_s * 5)\n",
    "        self.fl = nn.Sequential(\n",
    "            nn.Conv2d(1, 16, 5),\n",
    "            nn.ReLU(),\n",
    "            nn.MaxPool2d(2),\n",
    "            nn.Conv2d(16, 5, 3),\n",
    "            nn.ReLU(),\n",
    "            nn.MaxPool2d(2),\n",
    "            nn.Flatten(1),\n",
    "            nn.Linear(fl_size, 256),\n",
    "            nn.ReLU(),\n",
    "            nn.Dropout(0.2),\n",
    "            nn.Linear(256, 128),\n",
    "            nn.ReLU(),\n",
    "            nn.Dropout(0.2),\n",
    "        )\n",
    "        self.out = nn.Sequential(\n",
    "            nn.Linear(128, 64), nn.ReLU(), nn.Linear(64, num_classes)\n",
    "        )\n",
    "\n",
    "    def forward(self, x):\n",
    "        x = self.fl(x)\n",
    "        x = self.out(x)\n",
    "        return x\n",
    "\n",
    "\n",
    "class DigitConfig(PretrainedConfig):\n",
    "    model_type = \"Classifier\"\n",
    "\n",
    "    def __init__(self, image_size=28, num_classes=10, **kwargs):\n",
    "        self.image_size = image_size\n",
    "        self.num_classes = num_classes\n",
    "        super().__init__(**kwargs)\n",
    "\n",
    "\n",
    "class DigitClassifierModel(PreTrainedModel):\n",
    "    config_class = DigitConfig\n",
    "\n",
    "    def __init__(self, config):\n",
    "        super().__init__(config)\n",
    "        self.model = DigitClassifier(config.image_size, config.num_classes)\n",
    "\n",
    "    def forward(self, tensor):\n",
    "        return self.model.forward(tensor)"
   ]
  },
  {
   "cell_type": "markdown",
   "metadata": {},
   "source": [
    "### 4. Starting out training"
   ]
  },
  {
   "cell_type": "code",
   "execution_count": 15,
   "metadata": {},
   "outputs": [],
   "source": [
    "config = DigitConfig()\n",
    "model = DigitClassifierModel(config)\n",
    "dataloader = DataLoader(ds['train'], batch_size=32)\n",
    "testloader = DataLoader(ds['test'], batch_size=32)\n",
    "criterion = nn.CrossEntropyLoss()"
   ]
  },
  {
   "cell_type": "code",
   "execution_count": 19,
   "metadata": {},
   "outputs": [],
   "source": [
    "optimizer = optim.Adam(model.parameters(), lr=1e-4)"
   ]
  },
  {
   "cell_type": "code",
   "execution_count": 20,
   "metadata": {},
   "outputs": [
    {
     "name": "stdout",
     "output_type": "stream",
     "text": [
      "[1,     1] loss: 0.25510\n",
      "[1,   501] loss: 0.45574\n",
      "[1,  1001] loss: 0.29064\n",
      "[1,  1501] loss: 0.21022\n",
      "[2,     1] loss: 0.13032\n",
      "[2,   501] loss: 0.19126\n",
      "[2,  1001] loss: 0.15267\n",
      "[2,  1501] loss: 0.09094\n",
      "[3,     1] loss: 0.00756\n",
      "[3,   501] loss: 0.12089\n",
      "[3,  1001] loss: 0.07706\n",
      "[3,  1501] loss: 0.12296\n",
      "[4,     1] loss: 0.05153\n",
      "[4,   501] loss: 0.05989\n",
      "[4,  1001] loss: 0.01597\n",
      "[4,  1501] loss: 0.07095\n",
      "[5,     1] loss: 0.03301\n",
      "[5,   501] loss: 0.09065\n",
      "[5,  1001] loss: 0.08669\n",
      "[5,  1501] loss: 0.04821\n",
      "Finished Training\n"
     ]
    }
   ],
   "source": [
    "epoch_count = 5\n",
    "for epoch in range(epoch_count):\n",
    "\n",
    "    running_loss = 0.0\n",
    "    for i, data in enumerate(dataloader, 0):\n",
    "        inputs = data[\"image\"].to(torch.float32)\n",
    "        labels = data[\"label\"].numpy()\n",
    "        labels = [ohe.transform(np.array([[label]])) for label in labels]\n",
    "        labels = torch.Tensor(np.array(labels)).squeeze()\n",
    "\n",
    "        optimizer.zero_grad()\n",
    "        outputs = model(inputs)\n",
    "\n",
    "        loss = criterion(outputs, labels)\n",
    "        loss.backward()\n",
    "\n",
    "        optimizer.step()\n",
    "        running_loss += loss.item()\n",
    "        if i % 500 == 0:\n",
    "            print(f\"[{epoch + 1}, {i + 1:5d}] loss: {running_loss:.5f}\")\n",
    "        running_loss = 0.0\n",
    "\n",
    "print(\"Finished Training\")"
   ]
  },
  {
   "cell_type": "markdown",
   "metadata": {},
   "source": [
    "### 5. Evaluating out model"
   ]
  },
  {
   "cell_type": "code",
   "execution_count": 21,
   "metadata": {},
   "outputs": [],
   "source": [
    "def calculate_metrics(model, data_loader):\n",
    "    model.eval()\n",
    "\n",
    "    all_preds = []\n",
    "    all_labels = []\n",
    "\n",
    "    with torch.no_grad():\n",
    "        for inputs, labels in data_loader:\n",
    "            inputs = data[\"image\"].to(torch.float32)\n",
    "            labels = data[\"label\"]\n",
    "\n",
    "            outputs = model(inputs)\n",
    "            preds = torch.argmax(outputs, dim=1)\n",
    "\n",
    "            all_preds.extend(preds.numpy())\n",
    "            all_labels.extend(labels.numpy())\n",
    "\n",
    "    acc = accuracy_score(all_labels, all_preds)\n",
    "    precision = precision_score(all_labels, all_preds, average=\"weighted\")\n",
    "    recall = recall_score(all_labels, all_preds, average=\"weighted\")\n",
    "    f1 = f1_score(all_labels, all_preds, average=\"weighted\")\n",
    "\n",
    "    return acc, precision, recall, f1"
   ]
  },
  {
   "cell_type": "code",
   "execution_count": 22,
   "metadata": {},
   "outputs": [
    {
     "name": "stdout",
     "output_type": "stream",
     "text": [
      "1.0 1.0 1.0 1.0\n"
     ]
    }
   ],
   "source": [
    "acc, precision, recall, f1 = calculate_metrics(model, testloader)\n",
    "print(acc, precision, recall, f1)"
   ]
  },
  {
   "cell_type": "markdown",
   "metadata": {},
   "source": [
    "### 6. Saving out model to path"
   ]
  },
  {
   "cell_type": "code",
   "execution_count": 23,
   "metadata": {},
   "outputs": [],
   "source": [
    "model.save_pretrained('./model')"
   ]
  }
 ],
 "metadata": {
  "kernelspec": {
   "display_name": "base",
   "language": "python",
   "name": "python3"
  },
  "language_info": {
   "codemirror_mode": {
    "name": "ipython",
    "version": 3
   },
   "file_extension": ".py",
   "mimetype": "text/x-python",
   "name": "python",
   "nbconvert_exporter": "python",
   "pygments_lexer": "ipython3",
   "version": "3.11.0"
  }
 },
 "nbformat": 4,
 "nbformat_minor": 2
}
